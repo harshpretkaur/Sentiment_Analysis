{
 "cells": [
  {
   "cell_type": "code",
   "execution_count": null,
   "id": "28f3dfd0",
   "metadata": {},
   "outputs": [],
   "source": []
  },
  {
   "cell_type": "code",
   "execution_count": 2,
   "id": "c1e432bd",
   "metadata": {},
   "outputs": [],
   "source": [
    "class Sentiment:\n",
    "    NEGATIVE='NEGATIVE'\n",
    "    POSITIVE='POSITIVE'\n",
    "    NEUTRAL='NEUTRAL'\n",
    "class Review:\n",
    "    def __init__(self,review,rating):\n",
    "        self.review=review\n",
    "        self.rating=rating\n",
    "        self.sentiment=self.get_sentiment()\n",
    "    def get_sentiment(self):\n",
    "        if self.rating<=2:\n",
    "            return Sentiment.NEGATIVE\n",
    "        elif self.rating==3:\n",
    "            return Sentiment.NEUTRAL\n",
    "        else:\n",
    "            return Sentiment.POSITIVE\n",
    "import random as rd\n",
    "class Review_Container:\n",
    "    def __init__(self, reviews):\n",
    "        self.reviews=reviews\n",
    "    def get_text(self):\n",
    "        return [i.review for i in self.reviews]\n",
    "    def get_sentiment(self):\n",
    "        return [i.sentiment for i in self.reviews]\n",
    "    def evenly_distribute(self):\n",
    "        negative=list(filter(lambda x: x.sentiment==Sentiment.NEGATIVE , self.reviews))\n",
    "        positive=list(filter(lambda x: x.sentiment==Sentiment.POSITIVE , self.reviews))\n",
    "        positive_shrunk=positive[:(len(negative))]\n",
    "        self.reviews=positive_shrunk+negative\n",
    "        rd.shuffle(self.reviews)\n",
    "        print(len(positive_shrunk))\n",
    "        \n",
    "        print(len(negative))"
   ]
  },
  {
   "cell_type": "code",
   "execution_count": 3,
   "id": "28aaa216",
   "metadata": {},
   "outputs": [
    {
     "data": {
      "text/plain": [
       "'POSITIVE'"
      ]
     },
     "execution_count": 3,
     "metadata": {},
     "output_type": "execute_result"
    }
   ],
   "source": [
    "\n",
    "import json\n",
    "import numpy as np\n",
    "file_name='./books_small_10000.json'\n",
    "reviews=[]\n",
    "with open(file_name) as f:\n",
    "    for line in f:\n",
    "        \n",
    "        review=json.loads(line)\n",
    "        reviews.append(Review(review['reviewText'],review['overall']))\n",
    "        review=None\n",
    "reviews[9].sentiment"
   ]
  },
  {
   "cell_type": "code",
   "execution_count": 4,
   "id": "58fd41c8",
   "metadata": {},
   "outputs": [],
   "source": [
    "from sklearn.model_selection import train_test_split"
   ]
  },
  {
   "cell_type": "code",
   "execution_count": 5,
   "id": "75613b6d",
   "metadata": {},
   "outputs": [],
   "source": [
    "training, testing=train_test_split(reviews,test_size=0.2,shuffle=True,random_state=42)"
   ]
  },
  {
   "cell_type": "code",
   "execution_count": 6,
   "id": "e6a758b1",
   "metadata": {},
   "outputs": [
    {
     "name": "stdout",
     "output_type": "stream",
     "text": [
      "513\n",
      "513\n",
      "131\n",
      "131\n"
     ]
    }
   ],
   "source": [
    "len(training)\n",
    "cont=Review_Container(training)\n",
    "cont.evenly_distribute()\n",
    "cont2=Review_Container(testing)\n",
    "cont2.evenly_distribute()\n",
    "len(cont.reviews)\n",
    "train_container=Review_Container(training)\n",
    "test_container=Review_Container(testing)"
   ]
  },
  {
   "cell_type": "code",
   "execution_count": 7,
   "id": "2f2a8ee6",
   "metadata": {},
   "outputs": [],
   "source": [
    "X_train=train_container.get_text()\n",
    "y_train=train_container.get_sentiment()\n",
    "X_test=test_container.get_text()\n",
    "y_test=test_container.get_sentiment()\n",
    "# X_train[90]"
   ]
  },
  {
   "cell_type": "code",
   "execution_count": 8,
   "id": "e4860074",
   "metadata": {},
   "outputs": [],
   "source": [
    "from sklearn.feature_extraction.text import CountVectorizer, TfidfVectorizer\n",
    "import numpy as np\n",
    "countvect=TfidfVectorizer()\n",
    "X_train_vector=(countvect.fit_transform(X_train))\n",
    "X_test_vector=(countvect.transform(X_test))"
   ]
  },
  {
   "cell_type": "markdown",
   "id": "8ab5fdaa",
   "metadata": {},
   "source": [
    "## Linear SVM"
   ]
  },
  {
   "cell_type": "code",
   "execution_count": 9,
   "id": "6fdbdcda",
   "metadata": {},
   "outputs": [
    {
     "data": {
      "text/plain": [
       "SVC(kernel='linear')"
      ]
     },
     "execution_count": 9,
     "metadata": {},
     "output_type": "execute_result"
    }
   ],
   "source": [
    "\n",
    "from sklearn.svm import SVC\n",
    "clf_svm=SVC(kernel='linear')\n",
    "clf_svm.fit(X_train_vector,y_train)\n"
   ]
  },
  {
   "cell_type": "markdown",
   "id": "457435dd",
   "metadata": {},
   "source": [
    "## POLY SVM\n"
   ]
  },
  {
   "cell_type": "code",
   "execution_count": 10,
   "id": "274775bb",
   "metadata": {},
   "outputs": [
    {
     "data": {
      "text/plain": [
       "SVC(kernel='poly')"
      ]
     },
     "execution_count": 10,
     "metadata": {},
     "output_type": "execute_result"
    }
   ],
   "source": [
    "\n",
    "from sklearn.svm import SVC\n",
    "clf_svm_poly=SVC(kernel='poly')\n",
    "clf_svm_poly.fit(X_train_vector,y_train)\n",
    "# print(X_test[89])\n",
    "# clf_svm.predict(X_test_vector[89])\n"
   ]
  },
  {
   "cell_type": "markdown",
   "id": "468ed779",
   "metadata": {},
   "source": [
    "## KNN"
   ]
  },
  {
   "cell_type": "code",
   "execution_count": 11,
   "id": "eeb877bc",
   "metadata": {},
   "outputs": [
    {
     "name": "stderr",
     "output_type": "stream",
     "text": [
      "c:\\users\\harshpreet kaur\\appdata\\local\\programs\\python\\python39\\lib\\site-packages\\sklearn\\linear_model\\_logistic.py:814: ConvergenceWarning: lbfgs failed to converge (status=1):\n",
      "STOP: TOTAL NO. of ITERATIONS REACHED LIMIT.\n",
      "\n",
      "Increase the number of iterations (max_iter) or scale the data as shown in:\n",
      "    https://scikit-learn.org/stable/modules/preprocessing.html\n",
      "Please also refer to the documentation for alternative solver options:\n",
      "    https://scikit-learn.org/stable/modules/linear_model.html#logistic-regression\n",
      "  n_iter_i = _check_optimize_result(\n"
     ]
    },
    {
     "data": {
      "text/plain": [
       "0.792"
      ]
     },
     "execution_count": 11,
     "metadata": {},
     "output_type": "execute_result"
    }
   ],
   "source": [
    "from sklearn.linear_model import LogisticRegression\n",
    "clf_log=LogisticRegression(class_weight='balanced')\n",
    "clf_log.fit(X_train_vector,y_train)\n",
    "# print(X_test[89])\n",
    "# clf_svm.predict(X_test_vector[89])\n",
    "score = clf_log.score(X_test_vector, y_test)\n",
    "score"
   ]
  },
  {
   "cell_type": "markdown",
   "id": "88bfc496",
   "metadata": {},
   "source": [
    "## logistic regression"
   ]
  },
  {
   "cell_type": "code",
   "execution_count": 12,
   "id": "945a0f80",
   "metadata": {},
   "outputs": [
    {
     "data": {
      "text/plain": [
       "KNeighborsClassifier()"
      ]
     },
     "execution_count": 12,
     "metadata": {},
     "output_type": "execute_result"
    }
   ],
   "source": [
    "from sklearn.neighbors import KNeighborsClassifier\n",
    "clf_knn=KNeighborsClassifier()\n",
    "clf_knn.fit(X_train_vector,y_train)\n",
    "# print(X_test[89])\n",
    "# clf_svm.predict(X_test_vector[89])\n"
   ]
  },
  {
   "cell_type": "markdown",
   "id": "f5d8d336",
   "metadata": {},
   "source": [
    "## Accuracy"
   ]
  },
  {
   "cell_type": "code",
   "execution_count": 13,
   "id": "73810928",
   "metadata": {},
   "outputs": [
    {
     "name": "stdout",
     "output_type": "stream",
     "text": [
      "0.8565\n",
      "0.837\n",
      "0.8325\n",
      "0.792\n"
     ]
    }
   ],
   "source": [
    "score_svm = clf_svm.score(X_test_vector, y_test)\n",
    "print(score_svm)\n",
    "score_svm_poly = clf_svm_poly.score(X_test_vector, y_test)\n",
    "print(score_svm_poly)\n",
    "score_knn= clf_knn.score(X_test_vector, y_test)\n",
    "print(score_knn)\n",
    "score_log= clf_log.score(X_test_vector, y_test)\n",
    "print(score_log)"
   ]
  },
  {
   "cell_type": "markdown",
   "id": "6aff691d",
   "metadata": {},
   "source": [
    "## f1 scores"
   ]
  },
  {
   "cell_type": "code",
   "execution_count": 14,
   "id": "85d831d1",
   "metadata": {},
   "outputs": [
    {
     "name": "stdout",
     "output_type": "stream",
     "text": [
      "[0.34117647 0.15178571 0.92457016]\n",
      "[0.         0.         0.91126837]\n",
      "[0.1920904  0.15503876 0.91332398]\n",
      "[0.48648649 0.35087719 0.89125666]\n"
     ]
    }
   ],
   "source": [
    "from sklearn.metrics import f1_score\n",
    "print(f1_score(y_test,clf_svm.predict(X_test_vector),average=None))\n",
    "\n",
    "print(f1_score(y_test,clf_svm_poly.predict(X_test_vector),average=None))\n",
    "\n",
    "print(f1_score(y_test,clf_knn.predict(X_test_vector),average=None))\n",
    "\n",
    "print(f1_score(y_test,clf_log.predict(X_test_vector),average=None))\n",
    "\n",
    "# print(f1_score(y_test,clf_svm.predict(X_test_vector),average=None))\n",
    "# x=['negative','neutral','positive']\n",
    "# print(x)"
   ]
  },
  {
   "cell_type": "code",
   "execution_count": 15,
   "id": "ad418004",
   "metadata": {},
   "outputs": [],
   "source": [
    "# from sklearn.svm import SVC\n",
    "# from sklearn.model_selection import GridSearchCV\n",
    "# clf=SVC()\n",
    "# parameters={'kernel':['sigmoid','rbf'],'C':[0.4,1]}\n",
    "# clf_cv=GridSearchCV(clf,parameters,cv=5)\n",
    "# clf_cv.fit(X_train_vector,y_train)\n"
   ]
  },
  {
   "cell_type": "code",
   "execution_count": 19,
   "id": "27492e75",
   "metadata": {},
   "outputs": [],
   "source": [
    "import pickle\n",
    "with open('./clf.pkl','wb') as f:\n",
    "    pickle.dump(clf_svm,f)"
   ]
  },
  {
   "cell_type": "code",
   "execution_count": 22,
   "id": "ec29bdab",
   "metadata": {},
   "outputs": [],
   "source": [
    "with open('./clf.pkl','rb') as f2:\n",
    "    pickle.load(f2)"
   ]
  },
  {
   "cell_type": "code",
   "execution_count": 25,
   "id": "b39dafa9",
   "metadata": {},
   "outputs": [
    {
     "name": "stdout",
     "output_type": "stream",
     "text": [
      "Outstanding I picked it up and did not put it down. There not many that can make you laugh and cry and just say WowI will keep this book and telll the one I know about Harper Sloan. If you want a great read this is it Enjoy.Happy Reading\n"
     ]
    },
    {
     "data": {
      "text/plain": [
       "array(['POSITIVE'], dtype='<U8')"
      ]
     },
     "execution_count": 25,
     "metadata": {},
     "output_type": "execute_result"
    }
   ],
   "source": [
    "print(X_test[77])\n",
    "loaded_clf.predict(X_test_vector[77])"
   ]
  },
  {
   "cell_type": "code",
   "execution_count": null,
   "id": "fe6c32de",
   "metadata": {},
   "outputs": [],
   "source": []
  },
  {
   "cell_type": "code",
   "execution_count": 27,
   "id": "abd3206e",
   "metadata": {},
   "outputs": [],
   "source": [
    "# looking for data engineering interns/ freshers to be part of data science team\n",
    "# proficient in python, basic understanding of ssql"
   ]
  },
  {
   "cell_type": "code",
   "execution_count": null,
   "id": "8ed3e761",
   "metadata": {},
   "outputs": [],
   "source": []
  },
  {
   "cell_type": "code",
   "execution_count": null,
   "id": "3b5477ec",
   "metadata": {},
   "outputs": [],
   "source": []
  }
 ],
 "metadata": {
  "kernelspec": {
   "display_name": "Python 3 (ipykernel)",
   "language": "python",
   "name": "python3"
  },
  "language_info": {
   "codemirror_mode": {
    "name": "ipython",
    "version": 3
   },
   "file_extension": ".py",
   "mimetype": "text/x-python",
   "name": "python",
   "nbconvert_exporter": "python",
   "pygments_lexer": "ipython3",
   "version": "3.9.5"
  }
 },
 "nbformat": 4,
 "nbformat_minor": 5
}
